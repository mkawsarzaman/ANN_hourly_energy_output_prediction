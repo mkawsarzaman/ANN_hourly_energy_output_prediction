{
 "cells": [
  {
   "cell_type": "code",
   "execution_count": 25,
   "metadata": {},
   "outputs": [],
   "source": [
    "import numpy as np\n",
    "import pandas as pd\n",
    "import tensorflow as tf\n",
    "import matplotlib.pyplot as plt"
   ]
  },
  {
   "cell_type": "code",
   "execution_count": 2,
   "metadata": {},
   "outputs": [],
   "source": [
    "dataset = pd.read_excel('Folds5x2_pp.xlsx')"
   ]
  },
  {
   "cell_type": "code",
   "execution_count": 3,
   "metadata": {},
   "outputs": [
    {
     "data": {
      "text/html": [
       "<div>\n",
       "<style scoped>\n",
       "    .dataframe tbody tr th:only-of-type {\n",
       "        vertical-align: middle;\n",
       "    }\n",
       "\n",
       "    .dataframe tbody tr th {\n",
       "        vertical-align: top;\n",
       "    }\n",
       "\n",
       "    .dataframe thead th {\n",
       "        text-align: right;\n",
       "    }\n",
       "</style>\n",
       "<table border=\"1\" class=\"dataframe\">\n",
       "  <thead>\n",
       "    <tr style=\"text-align: right;\">\n",
       "      <th></th>\n",
       "      <th>AT</th>\n",
       "      <th>V</th>\n",
       "      <th>AP</th>\n",
       "      <th>RH</th>\n",
       "      <th>PE</th>\n",
       "    </tr>\n",
       "  </thead>\n",
       "  <tbody>\n",
       "    <tr>\n",
       "      <th>0</th>\n",
       "      <td>14.96</td>\n",
       "      <td>41.76</td>\n",
       "      <td>1024.07</td>\n",
       "      <td>73.17</td>\n",
       "      <td>463.26</td>\n",
       "    </tr>\n",
       "    <tr>\n",
       "      <th>1</th>\n",
       "      <td>25.18</td>\n",
       "      <td>62.96</td>\n",
       "      <td>1020.04</td>\n",
       "      <td>59.08</td>\n",
       "      <td>444.37</td>\n",
       "    </tr>\n",
       "    <tr>\n",
       "      <th>2</th>\n",
       "      <td>5.11</td>\n",
       "      <td>39.40</td>\n",
       "      <td>1012.16</td>\n",
       "      <td>92.14</td>\n",
       "      <td>488.56</td>\n",
       "    </tr>\n",
       "    <tr>\n",
       "      <th>3</th>\n",
       "      <td>20.86</td>\n",
       "      <td>57.32</td>\n",
       "      <td>1010.24</td>\n",
       "      <td>76.64</td>\n",
       "      <td>446.48</td>\n",
       "    </tr>\n",
       "    <tr>\n",
       "      <th>4</th>\n",
       "      <td>10.82</td>\n",
       "      <td>37.50</td>\n",
       "      <td>1009.23</td>\n",
       "      <td>96.62</td>\n",
       "      <td>473.90</td>\n",
       "    </tr>\n",
       "  </tbody>\n",
       "</table>\n",
       "</div>"
      ],
      "text/plain": [
       "      AT      V       AP     RH      PE\n",
       "0  14.96  41.76  1024.07  73.17  463.26\n",
       "1  25.18  62.96  1020.04  59.08  444.37\n",
       "2   5.11  39.40  1012.16  92.14  488.56\n",
       "3  20.86  57.32  1010.24  76.64  446.48\n",
       "4  10.82  37.50  1009.23  96.62  473.90"
      ]
     },
     "execution_count": 3,
     "metadata": {},
     "output_type": "execute_result"
    }
   ],
   "source": [
    "dataset.head()"
   ]
  },
  {
   "cell_type": "code",
   "execution_count": 4,
   "metadata": {},
   "outputs": [
    {
     "data": {
      "text/html": [
       "<div>\n",
       "<style scoped>\n",
       "    .dataframe tbody tr th:only-of-type {\n",
       "        vertical-align: middle;\n",
       "    }\n",
       "\n",
       "    .dataframe tbody tr th {\n",
       "        vertical-align: top;\n",
       "    }\n",
       "\n",
       "    .dataframe thead th {\n",
       "        text-align: right;\n",
       "    }\n",
       "</style>\n",
       "<table border=\"1\" class=\"dataframe\">\n",
       "  <thead>\n",
       "    <tr style=\"text-align: right;\">\n",
       "      <th></th>\n",
       "      <th>AT</th>\n",
       "      <th>V</th>\n",
       "      <th>AP</th>\n",
       "      <th>RH</th>\n",
       "      <th>PE</th>\n",
       "    </tr>\n",
       "  </thead>\n",
       "  <tbody>\n",
       "    <tr>\n",
       "      <th>count</th>\n",
       "      <td>9568.000000</td>\n",
       "      <td>9568.000000</td>\n",
       "      <td>9568.000000</td>\n",
       "      <td>9568.000000</td>\n",
       "      <td>9568.000000</td>\n",
       "    </tr>\n",
       "    <tr>\n",
       "      <th>mean</th>\n",
       "      <td>19.651231</td>\n",
       "      <td>54.305804</td>\n",
       "      <td>1013.259078</td>\n",
       "      <td>73.308978</td>\n",
       "      <td>454.365009</td>\n",
       "    </tr>\n",
       "    <tr>\n",
       "      <th>std</th>\n",
       "      <td>7.452473</td>\n",
       "      <td>12.707893</td>\n",
       "      <td>5.938784</td>\n",
       "      <td>14.600269</td>\n",
       "      <td>17.066995</td>\n",
       "    </tr>\n",
       "    <tr>\n",
       "      <th>min</th>\n",
       "      <td>1.810000</td>\n",
       "      <td>25.360000</td>\n",
       "      <td>992.890000</td>\n",
       "      <td>25.560000</td>\n",
       "      <td>420.260000</td>\n",
       "    </tr>\n",
       "    <tr>\n",
       "      <th>25%</th>\n",
       "      <td>13.510000</td>\n",
       "      <td>41.740000</td>\n",
       "      <td>1009.100000</td>\n",
       "      <td>63.327500</td>\n",
       "      <td>439.750000</td>\n",
       "    </tr>\n",
       "    <tr>\n",
       "      <th>50%</th>\n",
       "      <td>20.345000</td>\n",
       "      <td>52.080000</td>\n",
       "      <td>1012.940000</td>\n",
       "      <td>74.975000</td>\n",
       "      <td>451.550000</td>\n",
       "    </tr>\n",
       "    <tr>\n",
       "      <th>75%</th>\n",
       "      <td>25.720000</td>\n",
       "      <td>66.540000</td>\n",
       "      <td>1017.260000</td>\n",
       "      <td>84.830000</td>\n",
       "      <td>468.430000</td>\n",
       "    </tr>\n",
       "    <tr>\n",
       "      <th>max</th>\n",
       "      <td>37.110000</td>\n",
       "      <td>81.560000</td>\n",
       "      <td>1033.300000</td>\n",
       "      <td>100.160000</td>\n",
       "      <td>495.760000</td>\n",
       "    </tr>\n",
       "  </tbody>\n",
       "</table>\n",
       "</div>"
      ],
      "text/plain": [
       "                AT            V           AP           RH           PE\n",
       "count  9568.000000  9568.000000  9568.000000  9568.000000  9568.000000\n",
       "mean     19.651231    54.305804  1013.259078    73.308978   454.365009\n",
       "std       7.452473    12.707893     5.938784    14.600269    17.066995\n",
       "min       1.810000    25.360000   992.890000    25.560000   420.260000\n",
       "25%      13.510000    41.740000  1009.100000    63.327500   439.750000\n",
       "50%      20.345000    52.080000  1012.940000    74.975000   451.550000\n",
       "75%      25.720000    66.540000  1017.260000    84.830000   468.430000\n",
       "max      37.110000    81.560000  1033.300000   100.160000   495.760000"
      ]
     },
     "execution_count": 4,
     "metadata": {},
     "output_type": "execute_result"
    }
   ],
   "source": [
    "dataset.describe()"
   ]
  },
  {
   "cell_type": "code",
   "execution_count": 5,
   "metadata": {},
   "outputs": [
    {
     "data": {
      "text/plain": [
       "9568"
      ]
     },
     "execution_count": 5,
     "metadata": {},
     "output_type": "execute_result"
    }
   ],
   "source": [
    "dataset.value_counts().sum()"
   ]
  },
  {
   "cell_type": "code",
   "execution_count": 6,
   "metadata": {},
   "outputs": [
    {
     "data": {
      "text/plain": [
       "AT    0\n",
       "V     0\n",
       "AP    0\n",
       "RH    0\n",
       "PE    0\n",
       "dtype: int64"
      ]
     },
     "execution_count": 6,
     "metadata": {},
     "output_type": "execute_result"
    }
   ],
   "source": [
    "dataset.isnull().sum()"
   ]
  },
  {
   "cell_type": "code",
   "execution_count": 7,
   "metadata": {},
   "outputs": [],
   "source": [
    "#no missing data"
   ]
  },
  {
   "cell_type": "code",
   "execution_count": 9,
   "metadata": {},
   "outputs": [],
   "source": [
    "X = dataset.drop('PE',axis=1).values"
   ]
  },
  {
   "cell_type": "code",
   "execution_count": 10,
   "metadata": {},
   "outputs": [],
   "source": [
    "y = dataset['PE'].values"
   ]
  },
  {
   "cell_type": "code",
   "execution_count": 11,
   "metadata": {},
   "outputs": [
    {
     "data": {
      "text/plain": [
       "array([463.26, 444.37, 488.56, ..., 429.57, 435.74, 453.28])"
      ]
     },
     "execution_count": 11,
     "metadata": {},
     "output_type": "execute_result"
    }
   ],
   "source": [
    "y"
   ]
  },
  {
   "cell_type": "code",
   "execution_count": 12,
   "metadata": {},
   "outputs": [
    {
     "data": {
      "text/plain": [
       "array([[  14.96,   41.76, 1024.07,   73.17],\n",
       "       [  25.18,   62.96, 1020.04,   59.08],\n",
       "       [   5.11,   39.4 , 1012.16,   92.14],\n",
       "       ...,\n",
       "       [  31.32,   74.33, 1012.92,   36.48],\n",
       "       [  24.48,   69.45, 1013.86,   62.39],\n",
       "       [  21.6 ,   62.52, 1017.23,   67.87]])"
      ]
     },
     "execution_count": 12,
     "metadata": {},
     "output_type": "execute_result"
    }
   ],
   "source": [
    "X"
   ]
  },
  {
   "cell_type": "code",
   "execution_count": 13,
   "metadata": {},
   "outputs": [],
   "source": [
    "from sklearn.model_selection import train_test_split"
   ]
  },
  {
   "cell_type": "code",
   "execution_count": 14,
   "metadata": {},
   "outputs": [],
   "source": [
    "X_train, X_test, y_train, y_test = train_test_split(X, y, test_size=0.2, random_state=0)"
   ]
  },
  {
   "cell_type": "code",
   "execution_count": 15,
   "metadata": {},
   "outputs": [],
   "source": [
    "from tensorflow.keras.models import Sequential"
   ]
  },
  {
   "cell_type": "code",
   "execution_count": 16,
   "metadata": {},
   "outputs": [],
   "source": [
    "from tensorflow.keras.layers import Dense, Dropout"
   ]
  },
  {
   "cell_type": "code",
   "execution_count": 17,
   "metadata": {},
   "outputs": [],
   "source": [
    "from tensorflow.keras.callbacks import EarlyStopping"
   ]
  },
  {
   "cell_type": "code",
   "execution_count": 18,
   "metadata": {},
   "outputs": [],
   "source": [
    "ann = Sequential()"
   ]
  },
  {
   "cell_type": "code",
   "execution_count": 19,
   "metadata": {},
   "outputs": [],
   "source": [
    "ann.add(Dense(units = 6, activation = 'relu'))"
   ]
  },
  {
   "cell_type": "code",
   "execution_count": 20,
   "metadata": {},
   "outputs": [],
   "source": [
    "ann.add(Dense(units = 3, activation = 'relu'))"
   ]
  },
  {
   "cell_type": "code",
   "execution_count": 21,
   "metadata": {},
   "outputs": [],
   "source": [
    "ann.add(Dense(units = 1))"
   ]
  },
  {
   "cell_type": "code",
   "execution_count": 22,
   "metadata": {},
   "outputs": [],
   "source": [
    "ann.compile(optimizer='adam', loss='mean_squared_error', metrics='accuracy')"
   ]
  },
  {
   "cell_type": "code",
   "execution_count": 23,
   "metadata": {},
   "outputs": [
    {
     "name": "stdout",
     "output_type": "stream",
     "text": [
      "Epoch 1/200\n",
      "240/240 - 1s - loss: 116186.4141 - accuracy: 0.0000e+00\n",
      "Epoch 2/200\n",
      "240/240 - 0s - loss: 1101.0673 - accuracy: 0.0000e+00\n",
      "Epoch 3/200\n",
      "240/240 - 0s - loss: 286.2751 - accuracy: 0.0000e+00\n",
      "Epoch 4/200\n",
      "240/240 - 0s - loss: 280.7974 - accuracy: 0.0000e+00\n",
      "Epoch 5/200\n",
      "240/240 - 0s - loss: 274.2009 - accuracy: 0.0000e+00\n",
      "Epoch 6/200\n",
      "240/240 - 0s - loss: 266.6938 - accuracy: 0.0000e+00\n",
      "Epoch 7/200\n",
      "240/240 - 0s - loss: 258.0712 - accuracy: 0.0000e+00\n",
      "Epoch 8/200\n",
      "240/240 - 0s - loss: 248.4504 - accuracy: 0.0000e+00\n",
      "Epoch 9/200\n",
      "240/240 - 0s - loss: 237.8052 - accuracy: 0.0000e+00\n",
      "Epoch 10/200\n",
      "240/240 - 0s - loss: 226.2569 - accuracy: 0.0000e+00\n",
      "Epoch 11/200\n",
      "240/240 - 0s - loss: 214.1064 - accuracy: 0.0000e+00\n",
      "Epoch 12/200\n",
      "240/240 - 0s - loss: 201.3756 - accuracy: 0.0000e+00\n",
      "Epoch 13/200\n",
      "240/240 - 0s - loss: 187.5806 - accuracy: 0.0000e+00\n",
      "Epoch 14/200\n",
      "240/240 - 0s - loss: 173.7161 - accuracy: 0.0000e+00\n",
      "Epoch 15/200\n",
      "240/240 - 0s - loss: 159.3347 - accuracy: 0.0000e+00\n",
      "Epoch 16/200\n",
      "240/240 - 0s - loss: 145.8671 - accuracy: 0.0000e+00\n",
      "Epoch 17/200\n",
      "240/240 - 0s - loss: 131.9793 - accuracy: 0.0000e+00\n",
      "Epoch 18/200\n",
      "240/240 - 0s - loss: 118.7114 - accuracy: 0.0000e+00\n",
      "Epoch 19/200\n",
      "240/240 - 0s - loss: 106.2240 - accuracy: 0.0000e+00\n",
      "Epoch 20/200\n",
      "240/240 - 0s - loss: 94.3866 - accuracy: 0.0000e+00\n",
      "Epoch 21/200\n",
      "240/240 - 0s - loss: 84.3327 - accuracy: 0.0000e+00\n",
      "Epoch 22/200\n",
      "240/240 - 0s - loss: 75.0000 - accuracy: 0.0000e+00\n",
      "Epoch 23/200\n",
      "240/240 - 0s - loss: 67.0193 - accuracy: 0.0000e+00\n",
      "Epoch 24/200\n",
      "240/240 - 0s - loss: 59.6385 - accuracy: 0.0000e+00\n",
      "Epoch 25/200\n",
      "240/240 - 0s - loss: 53.6493 - accuracy: 0.0000e+00\n",
      "Epoch 26/200\n",
      "240/240 - 0s - loss: 49.1882 - accuracy: 0.0000e+00\n",
      "Epoch 27/200\n",
      "240/240 - 0s - loss: 43.9547 - accuracy: 0.0000e+00\n",
      "Epoch 28/200\n",
      "240/240 - 0s - loss: 40.2841 - accuracy: 0.0000e+00\n",
      "Epoch 29/200\n",
      "240/240 - 0s - loss: 37.4176 - accuracy: 0.0000e+00\n",
      "Epoch 30/200\n",
      "240/240 - 0s - loss: 34.8595 - accuracy: 0.0000e+00\n",
      "Epoch 31/200\n",
      "240/240 - 0s - loss: 32.9728 - accuracy: 0.0000e+00\n",
      "Epoch 32/200\n",
      "240/240 - 0s - loss: 31.6885 - accuracy: 0.0000e+00\n",
      "Epoch 33/200\n",
      "240/240 - 0s - loss: 30.4175 - accuracy: 0.0000e+00\n",
      "Epoch 34/200\n",
      "240/240 - 0s - loss: 29.4492 - accuracy: 0.0000e+00\n",
      "Epoch 35/200\n",
      "240/240 - 0s - loss: 28.6552 - accuracy: 0.0000e+00\n",
      "Epoch 36/200\n",
      "240/240 - 0s - loss: 28.5838 - accuracy: 0.0000e+00\n",
      "Epoch 37/200\n",
      "240/240 - 0s - loss: 27.9557 - accuracy: 0.0000e+00\n",
      "Epoch 38/200\n",
      "240/240 - 0s - loss: 27.6471 - accuracy: 0.0000e+00\n",
      "Epoch 39/200\n",
      "240/240 - 0s - loss: 27.4871 - accuracy: 0.0000e+00\n",
      "Epoch 40/200\n",
      "240/240 - 0s - loss: 27.1411 - accuracy: 0.0000e+00\n",
      "Epoch 41/200\n",
      "240/240 - 0s - loss: 27.6921 - accuracy: 0.0000e+00\n",
      "Epoch 42/200\n",
      "240/240 - 0s - loss: 27.8418 - accuracy: 0.0000e+00\n",
      "Epoch 43/200\n",
      "240/240 - 0s - loss: 27.3459 - accuracy: 0.0000e+00\n",
      "Epoch 44/200\n",
      "240/240 - 0s - loss: 27.8088 - accuracy: 0.0000e+00\n",
      "Epoch 45/200\n",
      "240/240 - 0s - loss: 27.2939 - accuracy: 0.0000e+00\n",
      "Epoch 46/200\n",
      "240/240 - 0s - loss: 27.1070 - accuracy: 0.0000e+00\n",
      "Epoch 47/200\n",
      "240/240 - 0s - loss: 26.8877 - accuracy: 0.0000e+00\n",
      "Epoch 48/200\n",
      "240/240 - 0s - loss: 26.7761 - accuracy: 0.0000e+00\n",
      "Epoch 49/200\n",
      "240/240 - 0s - loss: 27.0845 - accuracy: 0.0000e+00\n",
      "Epoch 50/200\n",
      "240/240 - 0s - loss: 27.4198 - accuracy: 0.0000e+00\n",
      "Epoch 51/200\n",
      "240/240 - 0s - loss: 26.9895 - accuracy: 0.0000e+00\n",
      "Epoch 52/200\n",
      "240/240 - 0s - loss: 26.9119 - accuracy: 0.0000e+00\n",
      "Epoch 53/200\n",
      "240/240 - 0s - loss: 26.9541 - accuracy: 0.0000e+00\n",
      "Epoch 54/200\n",
      "240/240 - 0s - loss: 26.8784 - accuracy: 0.0000e+00\n",
      "Epoch 55/200\n",
      "240/240 - 0s - loss: 27.2391 - accuracy: 0.0000e+00\n",
      "Epoch 56/200\n",
      "240/240 - 0s - loss: 27.3855 - accuracy: 0.0000e+00\n",
      "Epoch 57/200\n",
      "240/240 - 0s - loss: 27.4297 - accuracy: 0.0000e+00\n",
      "Epoch 58/200\n",
      "240/240 - 0s - loss: 27.0831 - accuracy: 0.0000e+00\n",
      "Epoch 59/200\n",
      "240/240 - 0s - loss: 27.1578 - accuracy: 0.0000e+00\n",
      "Epoch 60/200\n",
      "240/240 - 0s - loss: 26.4116 - accuracy: 0.0000e+00\n",
      "Epoch 61/200\n",
      "240/240 - 0s - loss: 27.0463 - accuracy: 0.0000e+00\n",
      "Epoch 62/200\n",
      "240/240 - 0s - loss: 26.5113 - accuracy: 0.0000e+00\n",
      "Epoch 63/200\n",
      "240/240 - 0s - loss: 26.4849 - accuracy: 0.0000e+00\n",
      "Epoch 64/200\n",
      "240/240 - 0s - loss: 26.4641 - accuracy: 0.0000e+00\n",
      "Epoch 65/200\n",
      "240/240 - 0s - loss: 27.1142 - accuracy: 0.0000e+00\n",
      "Epoch 66/200\n",
      "240/240 - 0s - loss: 26.5399 - accuracy: 0.0000e+00\n",
      "Epoch 67/200\n",
      "240/240 - 0s - loss: 26.4472 - accuracy: 0.0000e+00\n",
      "Epoch 68/200\n",
      "240/240 - 0s - loss: 26.9702 - accuracy: 0.0000e+00\n",
      "Epoch 69/200\n",
      "240/240 - 0s - loss: 26.5576 - accuracy: 0.0000e+00\n",
      "Epoch 70/200\n",
      "240/240 - 0s - loss: 26.6178 - accuracy: 0.0000e+00\n",
      "Epoch 71/200\n",
      "240/240 - 0s - loss: 26.6504 - accuracy: 0.0000e+00\n",
      "Epoch 72/200\n",
      "240/240 - 0s - loss: 26.8800 - accuracy: 0.0000e+00\n",
      "Epoch 73/200\n",
      "240/240 - 0s - loss: 26.6839 - accuracy: 0.0000e+00\n",
      "Epoch 74/200\n",
      "240/240 - 0s - loss: 26.5365 - accuracy: 0.0000e+00\n",
      "Epoch 75/200\n",
      "240/240 - 0s - loss: 26.3839 - accuracy: 0.0000e+00\n",
      "Epoch 76/200\n",
      "240/240 - 0s - loss: 26.7644 - accuracy: 0.0000e+00\n",
      "Epoch 77/200\n",
      "240/240 - 0s - loss: 26.9184 - accuracy: 0.0000e+00\n",
      "Epoch 78/200\n",
      "240/240 - 0s - loss: 26.7335 - accuracy: 0.0000e+00\n",
      "Epoch 79/200\n",
      "240/240 - 0s - loss: 26.4030 - accuracy: 0.0000e+00\n",
      "Epoch 80/200\n",
      "240/240 - 0s - loss: 26.5077 - accuracy: 0.0000e+00\n",
      "Epoch 81/200\n",
      "240/240 - 0s - loss: 26.1595 - accuracy: 0.0000e+00\n",
      "Epoch 82/200\n",
      "240/240 - 0s - loss: 26.9235 - accuracy: 0.0000e+00\n",
      "Epoch 83/200\n",
      "240/240 - 0s - loss: 27.3486 - accuracy: 0.0000e+00\n",
      "Epoch 84/200\n",
      "240/240 - 0s - loss: 26.7965 - accuracy: 0.0000e+00\n",
      "Epoch 85/200\n",
      "240/240 - 0s - loss: 26.6849 - accuracy: 0.0000e+00\n",
      "Epoch 86/200\n",
      "240/240 - 0s - loss: 26.6070 - accuracy: 0.0000e+00\n",
      "Epoch 87/200\n",
      "240/240 - 0s - loss: 26.6326 - accuracy: 0.0000e+00\n",
      "Epoch 88/200\n",
      "240/240 - 0s - loss: 26.7486 - accuracy: 0.0000e+00\n",
      "Epoch 89/200\n",
      "240/240 - 0s - loss: 27.0214 - accuracy: 0.0000e+00\n",
      "Epoch 90/200\n",
      "240/240 - 0s - loss: 26.4839 - accuracy: 0.0000e+00\n",
      "Epoch 91/200\n",
      "240/240 - 0s - loss: 26.5926 - accuracy: 0.0000e+00\n",
      "Epoch 92/200\n",
      "240/240 - 0s - loss: 26.7605 - accuracy: 0.0000e+00\n",
      "Epoch 93/200\n",
      "240/240 - 0s - loss: 26.9209 - accuracy: 0.0000e+00\n",
      "Epoch 94/200\n",
      "240/240 - 0s - loss: 27.0446 - accuracy: 0.0000e+00\n",
      "Epoch 95/200\n",
      "240/240 - 0s - loss: 26.9622 - accuracy: 0.0000e+00\n",
      "Epoch 96/200\n",
      "240/240 - 0s - loss: 26.6033 - accuracy: 0.0000e+00\n",
      "Epoch 97/200\n",
      "240/240 - 0s - loss: 26.9860 - accuracy: 0.0000e+00\n",
      "Epoch 98/200\n",
      "240/240 - 0s - loss: 26.6656 - accuracy: 0.0000e+00\n",
      "Epoch 99/200\n",
      "240/240 - 0s - loss: 26.5213 - accuracy: 0.0000e+00\n",
      "Epoch 100/200\n",
      "240/240 - 0s - loss: 27.0818 - accuracy: 0.0000e+00\n",
      "Epoch 101/200\n",
      "240/240 - 0s - loss: 27.0092 - accuracy: 0.0000e+00\n",
      "Epoch 102/200\n",
      "240/240 - 0s - loss: 26.1184 - accuracy: 0.0000e+00\n",
      "Epoch 103/200\n",
      "240/240 - 0s - loss: 26.5292 - accuracy: 0.0000e+00\n",
      "Epoch 104/200\n",
      "240/240 - 0s - loss: 26.2673 - accuracy: 0.0000e+00\n",
      "Epoch 105/200\n",
      "240/240 - 0s - loss: 26.5872 - accuracy: 0.0000e+00\n",
      "Epoch 106/200\n",
      "240/240 - 0s - loss: 26.4820 - accuracy: 0.0000e+00\n",
      "Epoch 107/200\n",
      "240/240 - 0s - loss: 26.7193 - accuracy: 0.0000e+00\n",
      "Epoch 108/200\n",
      "240/240 - 0s - loss: 26.4639 - accuracy: 0.0000e+00\n",
      "Epoch 109/200\n",
      "240/240 - 0s - loss: 27.1326 - accuracy: 0.0000e+00\n",
      "Epoch 110/200\n",
      "240/240 - 0s - loss: 26.6028 - accuracy: 0.0000e+00\n",
      "Epoch 111/200\n",
      "240/240 - 0s - loss: 27.0836 - accuracy: 0.0000e+00\n",
      "Epoch 112/200\n",
      "240/240 - 0s - loss: 26.4529 - accuracy: 0.0000e+00\n",
      "Epoch 113/200\n",
      "240/240 - 0s - loss: 27.1425 - accuracy: 0.0000e+00\n",
      "Epoch 114/200\n",
      "240/240 - 0s - loss: 26.6977 - accuracy: 0.0000e+00\n",
      "Epoch 115/200\n",
      "240/240 - 0s - loss: 26.6428 - accuracy: 0.0000e+00\n",
      "Epoch 116/200\n",
      "240/240 - 0s - loss: 26.6879 - accuracy: 0.0000e+00\n",
      "Epoch 117/200\n",
      "240/240 - 0s - loss: 26.7420 - accuracy: 0.0000e+00\n",
      "Epoch 118/200\n",
      "240/240 - 0s - loss: 26.2854 - accuracy: 0.0000e+00\n",
      "Epoch 119/200\n",
      "240/240 - 0s - loss: 26.3146 - accuracy: 0.0000e+00\n",
      "Epoch 120/200\n",
      "240/240 - 0s - loss: 26.5541 - accuracy: 0.0000e+00\n",
      "Epoch 121/200\n",
      "240/240 - 0s - loss: 27.0293 - accuracy: 0.0000e+00\n",
      "Epoch 122/200\n",
      "240/240 - 0s - loss: 26.5398 - accuracy: 0.0000e+00\n",
      "Epoch 123/200\n",
      "240/240 - 0s - loss: 26.6566 - accuracy: 0.0000e+00\n",
      "Epoch 124/200\n",
      "240/240 - 0s - loss: 26.7389 - accuracy: 0.0000e+00\n",
      "Epoch 125/200\n",
      "240/240 - 0s - loss: 26.9859 - accuracy: 0.0000e+00\n",
      "Epoch 126/200\n",
      "240/240 - 0s - loss: 26.3519 - accuracy: 0.0000e+00\n"
     ]
    },
    {
     "name": "stdout",
     "output_type": "stream",
     "text": [
      "Epoch 127/200\n",
      "240/240 - 0s - loss: 26.3865 - accuracy: 0.0000e+00\n",
      "Epoch 128/200\n",
      "240/240 - 0s - loss: 26.8072 - accuracy: 0.0000e+00\n",
      "Epoch 129/200\n",
      "240/240 - 0s - loss: 26.6106 - accuracy: 0.0000e+00\n",
      "Epoch 130/200\n",
      "240/240 - 0s - loss: 26.8391 - accuracy: 0.0000e+00\n",
      "Epoch 131/200\n",
      "240/240 - 0s - loss: 26.8231 - accuracy: 0.0000e+00\n",
      "Epoch 132/200\n",
      "240/240 - 0s - loss: 26.5859 - accuracy: 0.0000e+00\n",
      "Epoch 133/200\n",
      "240/240 - 0s - loss: 26.5661 - accuracy: 0.0000e+00\n",
      "Epoch 134/200\n",
      "240/240 - 0s - loss: 26.4511 - accuracy: 0.0000e+00\n",
      "Epoch 135/200\n",
      "240/240 - 0s - loss: 26.5119 - accuracy: 0.0000e+00\n",
      "Epoch 136/200\n",
      "240/240 - 0s - loss: 26.1149 - accuracy: 0.0000e+00\n",
      "Epoch 137/200\n",
      "240/240 - 0s - loss: 26.6196 - accuracy: 0.0000e+00\n",
      "Epoch 138/200\n",
      "240/240 - 0s - loss: 26.6386 - accuracy: 0.0000e+00\n",
      "Epoch 139/200\n",
      "240/240 - 0s - loss: 26.6190 - accuracy: 0.0000e+00\n",
      "Epoch 140/200\n",
      "240/240 - 0s - loss: 26.2834 - accuracy: 0.0000e+00\n",
      "Epoch 141/200\n",
      "240/240 - 0s - loss: 26.7208 - accuracy: 0.0000e+00\n",
      "Epoch 142/200\n",
      "240/240 - 0s - loss: 26.5468 - accuracy: 0.0000e+00\n",
      "Epoch 143/200\n",
      "240/240 - 0s - loss: 26.6632 - accuracy: 0.0000e+00\n",
      "Epoch 144/200\n",
      "240/240 - 0s - loss: 26.6347 - accuracy: 0.0000e+00\n",
      "Epoch 145/200\n",
      "240/240 - 0s - loss: 26.5196 - accuracy: 0.0000e+00\n",
      "Epoch 146/200\n",
      "240/240 - 0s - loss: 26.5477 - accuracy: 0.0000e+00\n",
      "Epoch 147/200\n",
      "240/240 - 0s - loss: 26.7623 - accuracy: 0.0000e+00\n",
      "Epoch 148/200\n",
      "240/240 - 0s - loss: 26.1990 - accuracy: 0.0000e+00\n",
      "Epoch 149/200\n",
      "240/240 - 0s - loss: 26.5034 - accuracy: 0.0000e+00\n",
      "Epoch 150/200\n",
      "240/240 - 0s - loss: 26.8920 - accuracy: 0.0000e+00\n",
      "Epoch 151/200\n",
      "240/240 - 0s - loss: 26.6931 - accuracy: 0.0000e+00\n",
      "Epoch 152/200\n",
      "240/240 - 0s - loss: 26.5240 - accuracy: 0.0000e+00\n",
      "Epoch 153/200\n",
      "240/240 - 0s - loss: 26.8396 - accuracy: 0.0000e+00\n",
      "Epoch 154/200\n",
      "240/240 - 0s - loss: 26.5351 - accuracy: 0.0000e+00\n",
      "Epoch 155/200\n",
      "240/240 - 0s - loss: 26.5598 - accuracy: 0.0000e+00\n",
      "Epoch 156/200\n",
      "240/240 - 0s - loss: 26.1957 - accuracy: 0.0000e+00\n",
      "Epoch 157/200\n",
      "240/240 - 0s - loss: 26.3295 - accuracy: 0.0000e+00\n",
      "Epoch 158/200\n",
      "240/240 - 0s - loss: 26.6562 - accuracy: 0.0000e+00\n",
      "Epoch 159/200\n",
      "240/240 - 0s - loss: 26.5584 - accuracy: 0.0000e+00\n",
      "Epoch 160/200\n",
      "240/240 - 0s - loss: 26.7179 - accuracy: 0.0000e+00\n",
      "Epoch 161/200\n",
      "240/240 - 0s - loss: 26.6421 - accuracy: 0.0000e+00\n",
      "Epoch 162/200\n",
      "240/240 - 0s - loss: 26.9140 - accuracy: 0.0000e+00\n",
      "Epoch 163/200\n",
      "240/240 - 0s - loss: 26.8838 - accuracy: 0.0000e+00\n",
      "Epoch 164/200\n",
      "240/240 - 0s - loss: 26.5593 - accuracy: 0.0000e+00\n",
      "Epoch 165/200\n",
      "240/240 - 0s - loss: 26.5236 - accuracy: 0.0000e+00\n",
      "Epoch 166/200\n",
      "240/240 - 0s - loss: 26.8009 - accuracy: 0.0000e+00\n",
      "Epoch 167/200\n",
      "240/240 - 0s - loss: 26.6914 - accuracy: 0.0000e+00\n",
      "Epoch 168/200\n",
      "240/240 - 0s - loss: 26.4833 - accuracy: 0.0000e+00\n",
      "Epoch 169/200\n",
      "240/240 - 0s - loss: 26.4789 - accuracy: 0.0000e+00\n",
      "Epoch 170/200\n",
      "240/240 - 0s - loss: 26.9462 - accuracy: 0.0000e+00\n",
      "Epoch 171/200\n",
      "240/240 - 0s - loss: 26.3862 - accuracy: 0.0000e+00\n",
      "Epoch 172/200\n",
      "240/240 - 0s - loss: 26.4074 - accuracy: 0.0000e+00\n",
      "Epoch 173/200\n",
      "240/240 - 0s - loss: 27.1462 - accuracy: 0.0000e+00\n",
      "Epoch 174/200\n",
      "240/240 - 0s - loss: 26.5368 - accuracy: 0.0000e+00\n",
      "Epoch 175/200\n",
      "240/240 - 0s - loss: 26.4428 - accuracy: 0.0000e+00\n",
      "Epoch 176/200\n",
      "240/240 - 0s - loss: 26.3169 - accuracy: 0.0000e+00\n",
      "Epoch 177/200\n",
      "240/240 - 0s - loss: 26.5886 - accuracy: 0.0000e+00\n",
      "Epoch 178/200\n",
      "240/240 - 0s - loss: 26.1637 - accuracy: 0.0000e+00\n",
      "Epoch 179/200\n",
      "240/240 - 0s - loss: 26.6655 - accuracy: 0.0000e+00\n",
      "Epoch 180/200\n",
      "240/240 - 0s - loss: 26.3071 - accuracy: 0.0000e+00\n",
      "Epoch 181/200\n",
      "240/240 - 0s - loss: 27.1301 - accuracy: 0.0000e+00\n",
      "Epoch 182/200\n",
      "240/240 - 0s - loss: 26.6651 - accuracy: 0.0000e+00\n",
      "Epoch 183/200\n",
      "240/240 - 0s - loss: 26.4060 - accuracy: 0.0000e+00\n",
      "Epoch 184/200\n",
      "240/240 - 0s - loss: 26.5755 - accuracy: 0.0000e+00\n",
      "Epoch 185/200\n",
      "240/240 - 0s - loss: 26.6844 - accuracy: 0.0000e+00\n",
      "Epoch 186/200\n",
      "240/240 - 0s - loss: 27.3397 - accuracy: 0.0000e+00\n",
      "Epoch 187/200\n",
      "240/240 - 0s - loss: 26.6688 - accuracy: 0.0000e+00\n",
      "Epoch 188/200\n",
      "240/240 - 0s - loss: 26.2429 - accuracy: 0.0000e+00\n",
      "Epoch 189/200\n",
      "240/240 - 0s - loss: 26.5320 - accuracy: 0.0000e+00\n",
      "Epoch 190/200\n",
      "240/240 - 0s - loss: 26.3144 - accuracy: 0.0000e+00\n",
      "Epoch 191/200\n",
      "240/240 - 0s - loss: 26.3743 - accuracy: 0.0000e+00\n",
      "Epoch 192/200\n",
      "240/240 - 0s - loss: 26.3713 - accuracy: 0.0000e+00\n",
      "Epoch 193/200\n",
      "240/240 - 0s - loss: 26.5856 - accuracy: 0.0000e+00\n",
      "Epoch 194/200\n",
      "240/240 - 0s - loss: 26.5537 - accuracy: 0.0000e+00\n",
      "Epoch 195/200\n",
      "240/240 - 0s - loss: 26.3017 - accuracy: 0.0000e+00\n",
      "Epoch 196/200\n",
      "240/240 - 0s - loss: 26.5686 - accuracy: 0.0000e+00\n",
      "Epoch 197/200\n",
      "240/240 - 0s - loss: 26.1035 - accuracy: 0.0000e+00\n",
      "Epoch 198/200\n",
      "240/240 - 0s - loss: 26.3586 - accuracy: 0.0000e+00\n",
      "Epoch 199/200\n",
      "240/240 - 0s - loss: 26.9350 - accuracy: 0.0000e+00\n",
      "Epoch 200/200\n",
      "240/240 - 0s - loss: 26.6739 - accuracy: 0.0000e+00\n"
     ]
    },
    {
     "data": {
      "text/plain": [
       "<tensorflow.python.keras.callbacks.History at 0x1ceff5a96d0>"
      ]
     },
     "execution_count": 23,
     "metadata": {},
     "output_type": "execute_result"
    }
   ],
   "source": [
    "ann.fit(x=X_train,y=y_train,batch_size=32,epochs=200,verbose=2)"
   ]
  },
  {
   "cell_type": "code",
   "execution_count": 24,
   "metadata": {},
   "outputs": [],
   "source": [
    "losses = pd.DataFrame(ann.history.history)"
   ]
  },
  {
   "cell_type": "code",
   "execution_count": 27,
   "metadata": {},
   "outputs": [],
   "source": [
    "y_pred = ann.predict(X_test)"
   ]
  },
  {
   "cell_type": "code",
   "execution_count": 28,
   "metadata": {},
   "outputs": [],
   "source": [
    "np.set_printoptions(precision=2)"
   ]
  },
  {
   "cell_type": "code",
   "execution_count": 31,
   "metadata": {},
   "outputs": [
    {
     "ename": "TypeError",
     "evalue": "only integer scalar arrays can be converted to a scalar index",
     "output_type": "error",
     "traceback": [
      "\u001b[1;31m---------------------------------------------------------------------------\u001b[0m",
      "\u001b[1;31mTypeError\u001b[0m                                 Traceback (most recent call last)",
      "\u001b[1;32m<ipython-input-31-7c5153ab61f1>\u001b[0m in \u001b[0;36m<module>\u001b[1;34m\u001b[0m\n\u001b[1;32m----> 1\u001b[1;33m \u001b[0mnp\u001b[0m\u001b[1;33m.\u001b[0m\u001b[0mconcatenate\u001b[0m\u001b[1;33m(\u001b[0m\u001b[0my_pred\u001b[0m\u001b[1;33m.\u001b[0m\u001b[0mreshape\u001b[0m\u001b[1;33m(\u001b[0m\u001b[0mlen\u001b[0m\u001b[1;33m(\u001b[0m\u001b[0my_pred\u001b[0m\u001b[1;33m)\u001b[0m\u001b[1;33m,\u001b[0m\u001b[1;36m1\u001b[0m\u001b[1;33m)\u001b[0m\u001b[1;33m,\u001b[0m\u001b[0my_test\u001b[0m\u001b[1;33m.\u001b[0m\u001b[0mreshape\u001b[0m\u001b[1;33m(\u001b[0m\u001b[0mlen\u001b[0m\u001b[1;33m(\u001b[0m\u001b[0my_test\u001b[0m\u001b[1;33m)\u001b[0m\u001b[1;33m,\u001b[0m\u001b[1;36m1\u001b[0m\u001b[1;33m)\u001b[0m\u001b[1;33m,\u001b[0m \u001b[1;36m1\u001b[0m\u001b[1;33m)\u001b[0m\u001b[1;33m\u001b[0m\u001b[1;33m\u001b[0m\u001b[0m\n\u001b[0m",
      "\u001b[1;32m<__array_function__ internals>\u001b[0m in \u001b[0;36mconcatenate\u001b[1;34m(*args, **kwargs)\u001b[0m\n",
      "\u001b[1;31mTypeError\u001b[0m: only integer scalar arrays can be converted to a scalar index"
     ]
    }
   ],
   "source": [
    "np.concatenate(y_pred.reshape(len(y_pred),1),y_test.reshape(len(y_test),1), 1)"
   ]
  },
  {
   "cell_type": "code",
   "execution_count": null,
   "metadata": {},
   "outputs": [],
   "source": []
  }
 ],
 "metadata": {
  "kernelspec": {
   "display_name": "Python 3",
   "language": "python",
   "name": "python3"
  },
  "language_info": {
   "codemirror_mode": {
    "name": "ipython",
    "version": 3
   },
   "file_extension": ".py",
   "mimetype": "text/x-python",
   "name": "python",
   "nbconvert_exporter": "python",
   "pygments_lexer": "ipython3",
   "version": "3.8.5"
  }
 },
 "nbformat": 4,
 "nbformat_minor": 4
}
